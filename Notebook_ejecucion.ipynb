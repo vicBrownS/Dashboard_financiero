{
 "cells": [
  {
   "metadata": {},
   "cell_type": "markdown",
   "source": [
    "# Notebook ejecución\n",
    "## Este notebook contiene todos los pasos tomados para desarrollar el código final alojado en main.py\n",
    "### El analisis de los datasets y las explicaciones pertinentes estarán como celdas md o comentarios en el código."
   ],
   "id": "80420bd7757c795"
  },
  {
   "metadata": {},
   "cell_type": "markdown",
   "source": "#### Importamos las librerias",
   "id": "7f953a37d0c7e93"
  },
  {
   "metadata": {
    "ExecuteTime": {
     "end_time": "2025-03-09T19:19:01.969313Z",
     "start_time": "2025-03-09T19:19:01.962682Z"
    }
   },
   "cell_type": "code",
   "source": [
    "from openpyxl import load_workbook\n",
    "import pandas as pd\n",
    "from openpyxl.formatting.rule import ColorScaleRule\n",
    "from openpyxl.styles import Border, Side"
   ],
   "id": "c24f0026b238d260",
   "outputs": [],
   "execution_count": 972
  },
  {
   "metadata": {},
   "cell_type": "markdown",
   "source": "### Abrimos el workbook donde iremos guardando los datos del resumen",
   "id": "ac95f8ed7f4a0d1c"
  },
  {
   "metadata": {
    "ExecuteTime": {
     "end_time": "2025-03-09T19:19:02.393601Z",
     "start_time": "2025-03-09T19:19:01.983359Z"
    }
   },
   "cell_type": "code",
   "source": [
    "data = load_workbook(\"data/Financial Sample.xlsx\")\n",
    "sheet = data.active\n",
    "sheet.title = \"Datos originales\"\n",
    "#Creamos la hoja donde guardaremos los resumenes.\n",
    "data.create_sheet(\"Resumenes\")\n",
    "data.active = data[\"Resumenes\"]\n",
    "sheet = data.active"
   ],
   "id": "67c1cf7f838c35c8",
   "outputs": [],
   "execution_count": 973
  },
  {
   "metadata": {},
   "cell_type": "markdown",
   "source": [
    "#### Importamos el dataset\n",
    "En un primer vistazo al excel que vamos a usar como ejemplo de datos financieros (https://learn.microsoft.com/es-es/power-bi/create-reports/sample-financial-download) vemos que solo tiene una hoja, por lo que será fácil pasarlo a un objeto de pandas."
   ],
   "id": "87460a43febe0ce"
  },
  {
   "cell_type": "code",
   "id": "initial_id",
   "metadata": {
    "collapsed": true,
    "ExecuteTime": {
     "end_time": "2025-03-09T19:19:02.698007Z",
     "start_time": "2025-03-09T19:19:02.504983Z"
    }
   },
   "source": "df = pd.read_excel(\"data/Financial Sample.xlsx\", engine = \"openpyxl\")",
   "outputs": [],
   "execution_count": 974
  },
  {
   "metadata": {},
   "cell_type": "markdown",
   "source": "#### Analizamos el dataset",
   "id": "d9642cfe6ab3cb65"
  },
  {
   "metadata": {
    "ExecuteTime": {
     "end_time": "2025-03-09T19:19:02.815253Z",
     "start_time": "2025-03-09T19:19:02.793293Z"
    }
   },
   "cell_type": "code",
   "source": "df.head()",
   "id": "6469cba75dba6bba",
   "outputs": [
    {
     "data": {
      "text/plain": [
       "            Segment                   Country    Product Discount Band  \\\n",
       "0  Channel Partners  United States of America  Carretera          High   \n",
       "1        Government  United States of America    Montana          High   \n",
       "2  Channel Partners  United States of America      Paseo          High   \n",
       "3        Enterprise  United States of America  Carretera          High   \n",
       "4        Enterprise                    France  Carretera          High   \n",
       "\n",
       "   Units Sold  Manufacturing Price  Sale Price  Gross Sales  Discounts  \\\n",
       "0       386.0                    3          12       4632.0     463.20   \n",
       "1      2328.0                    5           7      16296.0    1629.60   \n",
       "2       386.0                   10          12       4632.0     463.20   \n",
       "3      3445.5                    3         125     430687.5   43068.75   \n",
       "4      1482.0                    3         125     185250.0   18525.00   \n",
       "\n",
       "       Sales      COGS    Profit       Date  Month Number Month Name  Year  \n",
       "0    4168.80    1158.0   3010.80 2013-10-01            10    October  2013  \n",
       "1   14666.40   11640.0   3026.40 2014-09-01             9  September  2014  \n",
       "2    4168.80    1158.0   3010.80 2013-10-01            10    October  2013  \n",
       "3  387618.75  413460.0 -25841.25 2014-04-01             4      April  2014  \n",
       "4  166725.00  177840.0 -11115.00 2013-12-01            12   December  2013  "
      ],
      "text/html": [
       "<div>\n",
       "<style scoped>\n",
       "    .dataframe tbody tr th:only-of-type {\n",
       "        vertical-align: middle;\n",
       "    }\n",
       "\n",
       "    .dataframe tbody tr th {\n",
       "        vertical-align: top;\n",
       "    }\n",
       "\n",
       "    .dataframe thead th {\n",
       "        text-align: right;\n",
       "    }\n",
       "</style>\n",
       "<table border=\"1\" class=\"dataframe\">\n",
       "  <thead>\n",
       "    <tr style=\"text-align: right;\">\n",
       "      <th></th>\n",
       "      <th>Segment</th>\n",
       "      <th>Country</th>\n",
       "      <th>Product</th>\n",
       "      <th>Discount Band</th>\n",
       "      <th>Units Sold</th>\n",
       "      <th>Manufacturing Price</th>\n",
       "      <th>Sale Price</th>\n",
       "      <th>Gross Sales</th>\n",
       "      <th>Discounts</th>\n",
       "      <th>Sales</th>\n",
       "      <th>COGS</th>\n",
       "      <th>Profit</th>\n",
       "      <th>Date</th>\n",
       "      <th>Month Number</th>\n",
       "      <th>Month Name</th>\n",
       "      <th>Year</th>\n",
       "    </tr>\n",
       "  </thead>\n",
       "  <tbody>\n",
       "    <tr>\n",
       "      <th>0</th>\n",
       "      <td>Channel Partners</td>\n",
       "      <td>United States of America</td>\n",
       "      <td>Carretera</td>\n",
       "      <td>High</td>\n",
       "      <td>386.0</td>\n",
       "      <td>3</td>\n",
       "      <td>12</td>\n",
       "      <td>4632.0</td>\n",
       "      <td>463.20</td>\n",
       "      <td>4168.80</td>\n",
       "      <td>1158.0</td>\n",
       "      <td>3010.80</td>\n",
       "      <td>2013-10-01</td>\n",
       "      <td>10</td>\n",
       "      <td>October</td>\n",
       "      <td>2013</td>\n",
       "    </tr>\n",
       "    <tr>\n",
       "      <th>1</th>\n",
       "      <td>Government</td>\n",
       "      <td>United States of America</td>\n",
       "      <td>Montana</td>\n",
       "      <td>High</td>\n",
       "      <td>2328.0</td>\n",
       "      <td>5</td>\n",
       "      <td>7</td>\n",
       "      <td>16296.0</td>\n",
       "      <td>1629.60</td>\n",
       "      <td>14666.40</td>\n",
       "      <td>11640.0</td>\n",
       "      <td>3026.40</td>\n",
       "      <td>2014-09-01</td>\n",
       "      <td>9</td>\n",
       "      <td>September</td>\n",
       "      <td>2014</td>\n",
       "    </tr>\n",
       "    <tr>\n",
       "      <th>2</th>\n",
       "      <td>Channel Partners</td>\n",
       "      <td>United States of America</td>\n",
       "      <td>Paseo</td>\n",
       "      <td>High</td>\n",
       "      <td>386.0</td>\n",
       "      <td>10</td>\n",
       "      <td>12</td>\n",
       "      <td>4632.0</td>\n",
       "      <td>463.20</td>\n",
       "      <td>4168.80</td>\n",
       "      <td>1158.0</td>\n",
       "      <td>3010.80</td>\n",
       "      <td>2013-10-01</td>\n",
       "      <td>10</td>\n",
       "      <td>October</td>\n",
       "      <td>2013</td>\n",
       "    </tr>\n",
       "    <tr>\n",
       "      <th>3</th>\n",
       "      <td>Enterprise</td>\n",
       "      <td>United States of America</td>\n",
       "      <td>Carretera</td>\n",
       "      <td>High</td>\n",
       "      <td>3445.5</td>\n",
       "      <td>3</td>\n",
       "      <td>125</td>\n",
       "      <td>430687.5</td>\n",
       "      <td>43068.75</td>\n",
       "      <td>387618.75</td>\n",
       "      <td>413460.0</td>\n",
       "      <td>-25841.25</td>\n",
       "      <td>2014-04-01</td>\n",
       "      <td>4</td>\n",
       "      <td>April</td>\n",
       "      <td>2014</td>\n",
       "    </tr>\n",
       "    <tr>\n",
       "      <th>4</th>\n",
       "      <td>Enterprise</td>\n",
       "      <td>France</td>\n",
       "      <td>Carretera</td>\n",
       "      <td>High</td>\n",
       "      <td>1482.0</td>\n",
       "      <td>3</td>\n",
       "      <td>125</td>\n",
       "      <td>185250.0</td>\n",
       "      <td>18525.00</td>\n",
       "      <td>166725.00</td>\n",
       "      <td>177840.0</td>\n",
       "      <td>-11115.00</td>\n",
       "      <td>2013-12-01</td>\n",
       "      <td>12</td>\n",
       "      <td>December</td>\n",
       "      <td>2013</td>\n",
       "    </tr>\n",
       "  </tbody>\n",
       "</table>\n",
       "</div>"
      ]
     },
     "execution_count": 975,
     "metadata": {},
     "output_type": "execute_result"
    }
   ],
   "execution_count": 975
  },
  {
   "metadata": {
    "ExecuteTime": {
     "end_time": "2025-03-09T19:19:02.972437Z",
     "start_time": "2025-03-09T19:19:02.962172Z"
    }
   },
   "cell_type": "code",
   "source": "df.columns",
   "id": "7d0e0279d0e22f30",
   "outputs": [
    {
     "data": {
      "text/plain": [
       "Index(['Segment', 'Country', 'Product', 'Discount Band', 'Units Sold',\n",
       "       'Manufacturing Price', 'Sale Price', 'Gross Sales', 'Discounts',\n",
       "       ' Sales', 'COGS', 'Profit', 'Date', 'Month Number', 'Month Name',\n",
       "       'Year'],\n",
       "      dtype='object')"
      ]
     },
     "execution_count": 976,
     "metadata": {},
     "output_type": "execute_result"
    }
   ],
   "execution_count": 976
  },
  {
   "metadata": {
    "ExecuteTime": {
     "end_time": "2025-03-09T19:19:03.070810Z",
     "start_time": "2025-03-09T19:19:03.064064Z"
    }
   },
   "cell_type": "code",
   "source": "df.shape",
   "id": "b215f84f327cad27",
   "outputs": [
    {
     "data": {
      "text/plain": [
       "(700, 16)"
      ]
     },
     "execution_count": 977,
     "metadata": {},
     "output_type": "execute_result"
    }
   ],
   "execution_count": 977
  },
  {
   "metadata": {
    "ExecuteTime": {
     "end_time": "2025-03-09T19:19:03.150317Z",
     "start_time": "2025-03-09T19:19:03.101839Z"
    }
   },
   "cell_type": "code",
   "source": "df.describe()",
   "id": "a5d071e76d6d3c8",
   "outputs": [
    {
     "data": {
      "text/plain": [
       "        Units Sold  Manufacturing Price  Sale Price   Gross Sales  \\\n",
       "count   700.000000           700.000000  700.000000  7.000000e+02   \n",
       "mean   1608.294286            96.477143  118.428571  1.827594e+05   \n",
       "min     200.000000             3.000000    7.000000  1.799000e+03   \n",
       "25%     905.000000             5.000000   12.000000  1.739175e+04   \n",
       "50%    1542.500000            10.000000   20.000000  3.798000e+04   \n",
       "75%    2229.125000           250.000000  300.000000  2.790250e+05   \n",
       "max    4492.500000           260.000000  350.000000  1.207500e+06   \n",
       "std     867.427859           108.602612  136.775515  2.542623e+05   \n",
       "\n",
       "           Discounts         Sales           COGS         Profit  \\\n",
       "count     700.000000  7.000000e+02     700.000000     700.000000   \n",
       "mean    13150.354629  1.696091e+05  145475.211429   24133.860371   \n",
       "min         0.000000  1.655080e+03     918.000000  -40617.500000   \n",
       "25%       800.320000  1.592800e+04    7490.000000    2805.960000   \n",
       "50%      2585.250000  3.554020e+04   22506.250000    9242.200000   \n",
       "75%     15956.343750  2.610775e+05  245607.500000   22662.000000   \n",
       "max    149677.500000  1.159200e+06  950625.000000  262200.000000   \n",
       "std     22962.928775  2.367263e+05  203865.506118   42760.626563   \n",
       "\n",
       "                      Date  Month Number         Year  \n",
       "count                  700    700.000000   700.000000  \n",
       "mean   2014-04-28 21:36:00      7.900000  2013.750000  \n",
       "min    2013-09-01 00:00:00      1.000000  2013.000000  \n",
       "25%    2013-12-24 06:00:00      5.750000  2013.750000  \n",
       "50%    2014-05-16 12:00:00      9.000000  2014.000000  \n",
       "75%    2014-09-08 12:00:00     10.250000  2014.000000  \n",
       "max    2014-12-01 00:00:00     12.000000  2014.000000  \n",
       "std                    NaN      3.377321     0.433322  "
      ],
      "text/html": [
       "<div>\n",
       "<style scoped>\n",
       "    .dataframe tbody tr th:only-of-type {\n",
       "        vertical-align: middle;\n",
       "    }\n",
       "\n",
       "    .dataframe tbody tr th {\n",
       "        vertical-align: top;\n",
       "    }\n",
       "\n",
       "    .dataframe thead th {\n",
       "        text-align: right;\n",
       "    }\n",
       "</style>\n",
       "<table border=\"1\" class=\"dataframe\">\n",
       "  <thead>\n",
       "    <tr style=\"text-align: right;\">\n",
       "      <th></th>\n",
       "      <th>Units Sold</th>\n",
       "      <th>Manufacturing Price</th>\n",
       "      <th>Sale Price</th>\n",
       "      <th>Gross Sales</th>\n",
       "      <th>Discounts</th>\n",
       "      <th>Sales</th>\n",
       "      <th>COGS</th>\n",
       "      <th>Profit</th>\n",
       "      <th>Date</th>\n",
       "      <th>Month Number</th>\n",
       "      <th>Year</th>\n",
       "    </tr>\n",
       "  </thead>\n",
       "  <tbody>\n",
       "    <tr>\n",
       "      <th>count</th>\n",
       "      <td>700.000000</td>\n",
       "      <td>700.000000</td>\n",
       "      <td>700.000000</td>\n",
       "      <td>7.000000e+02</td>\n",
       "      <td>700.000000</td>\n",
       "      <td>7.000000e+02</td>\n",
       "      <td>700.000000</td>\n",
       "      <td>700.000000</td>\n",
       "      <td>700</td>\n",
       "      <td>700.000000</td>\n",
       "      <td>700.000000</td>\n",
       "    </tr>\n",
       "    <tr>\n",
       "      <th>mean</th>\n",
       "      <td>1608.294286</td>\n",
       "      <td>96.477143</td>\n",
       "      <td>118.428571</td>\n",
       "      <td>1.827594e+05</td>\n",
       "      <td>13150.354629</td>\n",
       "      <td>1.696091e+05</td>\n",
       "      <td>145475.211429</td>\n",
       "      <td>24133.860371</td>\n",
       "      <td>2014-04-28 21:36:00</td>\n",
       "      <td>7.900000</td>\n",
       "      <td>2013.750000</td>\n",
       "    </tr>\n",
       "    <tr>\n",
       "      <th>min</th>\n",
       "      <td>200.000000</td>\n",
       "      <td>3.000000</td>\n",
       "      <td>7.000000</td>\n",
       "      <td>1.799000e+03</td>\n",
       "      <td>0.000000</td>\n",
       "      <td>1.655080e+03</td>\n",
       "      <td>918.000000</td>\n",
       "      <td>-40617.500000</td>\n",
       "      <td>2013-09-01 00:00:00</td>\n",
       "      <td>1.000000</td>\n",
       "      <td>2013.000000</td>\n",
       "    </tr>\n",
       "    <tr>\n",
       "      <th>25%</th>\n",
       "      <td>905.000000</td>\n",
       "      <td>5.000000</td>\n",
       "      <td>12.000000</td>\n",
       "      <td>1.739175e+04</td>\n",
       "      <td>800.320000</td>\n",
       "      <td>1.592800e+04</td>\n",
       "      <td>7490.000000</td>\n",
       "      <td>2805.960000</td>\n",
       "      <td>2013-12-24 06:00:00</td>\n",
       "      <td>5.750000</td>\n",
       "      <td>2013.750000</td>\n",
       "    </tr>\n",
       "    <tr>\n",
       "      <th>50%</th>\n",
       "      <td>1542.500000</td>\n",
       "      <td>10.000000</td>\n",
       "      <td>20.000000</td>\n",
       "      <td>3.798000e+04</td>\n",
       "      <td>2585.250000</td>\n",
       "      <td>3.554020e+04</td>\n",
       "      <td>22506.250000</td>\n",
       "      <td>9242.200000</td>\n",
       "      <td>2014-05-16 12:00:00</td>\n",
       "      <td>9.000000</td>\n",
       "      <td>2014.000000</td>\n",
       "    </tr>\n",
       "    <tr>\n",
       "      <th>75%</th>\n",
       "      <td>2229.125000</td>\n",
       "      <td>250.000000</td>\n",
       "      <td>300.000000</td>\n",
       "      <td>2.790250e+05</td>\n",
       "      <td>15956.343750</td>\n",
       "      <td>2.610775e+05</td>\n",
       "      <td>245607.500000</td>\n",
       "      <td>22662.000000</td>\n",
       "      <td>2014-09-08 12:00:00</td>\n",
       "      <td>10.250000</td>\n",
       "      <td>2014.000000</td>\n",
       "    </tr>\n",
       "    <tr>\n",
       "      <th>max</th>\n",
       "      <td>4492.500000</td>\n",
       "      <td>260.000000</td>\n",
       "      <td>350.000000</td>\n",
       "      <td>1.207500e+06</td>\n",
       "      <td>149677.500000</td>\n",
       "      <td>1.159200e+06</td>\n",
       "      <td>950625.000000</td>\n",
       "      <td>262200.000000</td>\n",
       "      <td>2014-12-01 00:00:00</td>\n",
       "      <td>12.000000</td>\n",
       "      <td>2014.000000</td>\n",
       "    </tr>\n",
       "    <tr>\n",
       "      <th>std</th>\n",
       "      <td>867.427859</td>\n",
       "      <td>108.602612</td>\n",
       "      <td>136.775515</td>\n",
       "      <td>2.542623e+05</td>\n",
       "      <td>22962.928775</td>\n",
       "      <td>2.367263e+05</td>\n",
       "      <td>203865.506118</td>\n",
       "      <td>42760.626563</td>\n",
       "      <td>NaN</td>\n",
       "      <td>3.377321</td>\n",
       "      <td>0.433322</td>\n",
       "    </tr>\n",
       "  </tbody>\n",
       "</table>\n",
       "</div>"
      ]
     },
     "execution_count": 978,
     "metadata": {},
     "output_type": "execute_result"
    }
   ],
   "execution_count": 978
  },
  {
   "metadata": {},
   "cell_type": "markdown",
   "source": "#### Revisamos los valores nulos",
   "id": "a6b97de4c1885861"
  },
  {
   "metadata": {
    "ExecuteTime": {
     "end_time": "2025-03-09T19:19:03.305685Z",
     "start_time": "2025-03-09T19:19:03.293843Z"
    }
   },
   "cell_type": "code",
   "source": "df.isnull().sum()",
   "id": "c35871cec284191f",
   "outputs": [
    {
     "data": {
      "text/plain": [
       "Segment                 0\n",
       "Country                 0\n",
       "Product                 0\n",
       "Discount Band          53\n",
       "Units Sold              0\n",
       "Manufacturing Price     0\n",
       "Sale Price              0\n",
       "Gross Sales             0\n",
       "Discounts               0\n",
       " Sales                  0\n",
       "COGS                    0\n",
       "Profit                  0\n",
       "Date                    0\n",
       "Month Number            0\n",
       "Month Name              0\n",
       "Year                    0\n",
       "dtype: int64"
      ]
     },
     "execution_count": 979,
     "metadata": {},
     "output_type": "execute_result"
    }
   ],
   "execution_count": 979
  },
  {
   "metadata": {},
   "cell_type": "markdown",
   "source": "#### Al ver que solo hay uno, la columna Discount Band, vemos de que se trata y si es importante quitar los nulos",
   "id": "955608241d31924d"
  },
  {
   "metadata": {
    "ExecuteTime": {
     "end_time": "2025-03-09T19:19:03.426134Z",
     "start_time": "2025-03-09T19:19:03.416031Z"
    }
   },
   "cell_type": "code",
   "source": "df[\"Discount Band\"].value_counts()",
   "id": "10f16b24ae0106f",
   "outputs": [
    {
     "data": {
      "text/plain": [
       "Discount Band\n",
       "High      245\n",
       "Medium    242\n",
       "Low       160\n",
       "Name: count, dtype: int64"
      ]
     },
     "execution_count": 980,
     "metadata": {},
     "output_type": "execute_result"
    }
   ],
   "execution_count": 980
  },
  {
   "metadata": {},
   "cell_type": "markdown",
   "source": "Por ser un valor categórico donde el valor nulo tiene un significado (no hay descuento) se imputará un nuevo valor \"No discount\".",
   "id": "552da89507c283fd"
  },
  {
   "metadata": {
    "ExecuteTime": {
     "end_time": "2025-03-09T19:19:03.530933Z",
     "start_time": "2025-03-09T19:19:03.523191Z"
    }
   },
   "cell_type": "code",
   "source": "df[\"Discount Band\"].fillna(value=\"No discount\", inplace=True)",
   "id": "52840045e5a99da8",
   "outputs": [
    {
     "name": "stderr",
     "output_type": "stream",
     "text": [
      "C:\\Users\\vicbr\\AppData\\Local\\Temp\\ipykernel_45652\\3912698363.py:1: FutureWarning: A value is trying to be set on a copy of a DataFrame or Series through chained assignment using an inplace method.\n",
      "The behavior will change in pandas 3.0. This inplace method will never work because the intermediate object on which we are setting values always behaves as a copy.\n",
      "\n",
      "For example, when doing 'df[col].method(value, inplace=True)', try using 'df.method({col: value}, inplace=True)' or df[col] = df[col].method(value) instead, to perform the operation inplace on the original object.\n",
      "\n",
      "\n",
      "  df[\"Discount Band\"].fillna(value=\"No discount\", inplace=True)\n"
     ]
    }
   ],
   "execution_count": 981
  },
  {
   "metadata": {
    "ExecuteTime": {
     "end_time": "2025-03-09T19:19:03.623949Z",
     "start_time": "2025-03-09T19:19:03.615760Z"
    }
   },
   "cell_type": "code",
   "source": "df[\"Discount Band\"].value_counts()",
   "id": "8235e9daacd709bb",
   "outputs": [
    {
     "data": {
      "text/plain": [
       "Discount Band\n",
       "High           245\n",
       "Medium         242\n",
       "Low            160\n",
       "No discount     53\n",
       "Name: count, dtype: int64"
      ]
     },
     "execution_count": 982,
     "metadata": {},
     "output_type": "execute_result"
    }
   ],
   "execution_count": 982
  },
  {
   "metadata": {},
   "cell_type": "markdown",
   "source": "### Analisis de features que vamos a utilizar para el dashboard",
   "id": "77fb76d5aa0b773b"
  },
  {
   "metadata": {
    "ExecuteTime": {
     "end_time": "2025-03-09T19:19:03.693549Z",
     "start_time": "2025-03-09T19:19:03.685411Z"
    }
   },
   "cell_type": "code",
   "source": "df.columns",
   "id": "b45c5168891f889a",
   "outputs": [
    {
     "data": {
      "text/plain": [
       "Index(['Segment', 'Country', 'Product', 'Discount Band', 'Units Sold',\n",
       "       'Manufacturing Price', 'Sale Price', 'Gross Sales', 'Discounts',\n",
       "       ' Sales', 'COGS', 'Profit', 'Date', 'Month Number', 'Month Name',\n",
       "       'Year'],\n",
       "      dtype='object')"
      ]
     },
     "execution_count": 983,
     "metadata": {},
     "output_type": "execute_result"
    }
   ],
   "execution_count": 983
  },
  {
   "metadata": {
    "ExecuteTime": {
     "end_time": "2025-03-09T19:19:03.753542Z",
     "start_time": "2025-03-09T19:19:03.745355Z"
    }
   },
   "cell_type": "code",
   "source": "df[\"Country\"].value_counts()",
   "id": "fd8f15b5d243f105",
   "outputs": [
    {
     "data": {
      "text/plain": [
       "Country\n",
       "United States of America    140\n",
       "France                      140\n",
       "Mexico                      140\n",
       "Germany                     140\n",
       "Canada                      140\n",
       "Name: count, dtype: int64"
      ]
     },
     "execution_count": 984,
     "metadata": {},
     "output_type": "execute_result"
    }
   ],
   "execution_count": 984
  },
  {
   "metadata": {},
   "cell_type": "markdown",
   "source": "#### Vamos sacando insights de los datos de venta de cada país",
   "id": "b4a31f4cef6019e2"
  },
  {
   "metadata": {
    "ExecuteTime": {
     "end_time": "2025-03-09T19:19:03.836433Z",
     "start_time": "2025-03-09T19:19:03.826314Z"
    }
   },
   "cell_type": "code",
   "source": [
    "ventas_brutas_por_pais = df.groupby(\"Country\")[\"Gross Sales\"].sum().round(0)\n",
    "ventas_brutas_por_pais.name = \"Ventas Brutas (€)\"\n",
    "ventas_brutas_por_pais"
   ],
   "id": "a3d088474346b0e6",
   "outputs": [
    {
     "data": {
      "text/plain": [
       "Country\n",
       "Canada                      26932164.0\n",
       "France                      26081674.0\n",
       "Germany                     24921468.0\n",
       "Mexico                      22726935.0\n",
       "United States of America    27269358.0\n",
       "Name: Ventas Brutas (€), dtype: float64"
      ]
     },
     "execution_count": 985,
     "metadata": {},
     "output_type": "execute_result"
    }
   ],
   "execution_count": 985
  },
  {
   "metadata": {
    "ExecuteTime": {
     "end_time": "2025-03-09T19:19:03.893306Z",
     "start_time": "2025-03-09T19:19:03.884170Z"
    }
   },
   "cell_type": "code",
   "source": [
    "promedio_ventas = df.groupby(\"Country\")[\"Gross Sales\"].mean().round(0)\n",
    "promedio_ventas.name = \"Promedio Ventas (€)\"\n",
    "promedio_ventas"
   ],
   "id": "5522923c2003a557",
   "outputs": [
    {
     "data": {
      "text/plain": [
       "Country\n",
       "Canada                      192373.0\n",
       "France                      186298.0\n",
       "Germany                     178010.0\n",
       "Mexico                      162335.0\n",
       "United States of America    194781.0\n",
       "Name: Promedio Ventas (€), dtype: float64"
      ]
     },
     "execution_count": 986,
     "metadata": {},
     "output_type": "execute_result"
    }
   ],
   "execution_count": 986
  },
  {
   "metadata": {
    "ExecuteTime": {
     "end_time": "2025-03-09T19:19:03.948749Z",
     "start_time": "2025-03-09T19:19:03.939334Z"
    }
   },
   "cell_type": "code",
   "source": [
    "total_ganancias = df.groupby(\"Country\")[\"Profit\"].sum().round(0)\n",
    "total_ganancias.name = \"Ganancias totales (€)\"\n",
    "total_ganancias"
   ],
   "id": "217a0b655516b172",
   "outputs": [
    {
     "data": {
      "text/plain": [
       "Country\n",
       "Canada                      3529229.0\n",
       "France                      3781021.0\n",
       "Germany                     3680389.0\n",
       "Mexico                      2907523.0\n",
       "United States of America    2995541.0\n",
       "Name: Ganancias totales (€), dtype: float64"
      ]
     },
     "execution_count": 987,
     "metadata": {},
     "output_type": "execute_result"
    }
   ],
   "execution_count": 987
  },
  {
   "metadata": {
    "ExecuteTime": {
     "end_time": "2025-03-09T19:19:03.997494Z",
     "start_time": "2025-03-09T19:19:03.990289Z"
    }
   },
   "cell_type": "code",
   "source": [
    "df[\"Profit_margin\"] = df[\"Profit\"]/df[\"Gross Sales\"]\n",
    "margen_ganancia_medio_por_pais = df.groupby(\"Country\")[\"Profit_margin\"].mean().round(6)*100\n",
    "margen_ganancia_medio_por_pais.name = \"Margen de ganancia medio (%)\"\n",
    "margen_ganancia_medio_por_pais"
   ],
   "id": "ae485a9ef7d930bb",
   "outputs": [
    {
     "data": {
      "text/plain": [
       "Country\n",
       "Canada                      25.7194\n",
       "France                      26.2337\n",
       "Germany                     26.5765\n",
       "Mexico                      25.4622\n",
       "United States of America    25.9765\n",
       "Name: Margen de ganancia medio (%), dtype: float64"
      ]
     },
     "execution_count": 988,
     "metadata": {},
     "output_type": "execute_result"
    }
   ],
   "execution_count": 988
  },
  {
   "metadata": {
    "ExecuteTime": {
     "end_time": "2025-03-09T19:19:04.042123Z",
     "start_time": "2025-03-09T19:19:04.036301Z"
    }
   },
   "cell_type": "code",
   "source": [
    "promedio_unidades_vendidas = df.groupby(\"Country\")[\"Units Sold\"].mean().round(2)\n",
    "promedio_unidades_vendidas.name = \"Promedio Unidades vendidas (ud)\"\n",
    "promedio_unidades_vendidas"
   ],
   "id": "380df0381a51abde",
   "outputs": [
    {
     "data": {
      "text/plain": [
       "Country\n",
       "Canada                      1767.35\n",
       "France                      1720.94\n",
       "Germany                     1439.24\n",
       "Mexico                      1452.32\n",
       "United States of America    1661.62\n",
       "Name: Promedio Unidades vendidas (ud), dtype: float64"
      ]
     },
     "execution_count": 989,
     "metadata": {},
     "output_type": "execute_result"
    }
   ],
   "execution_count": 989
  },
  {
   "metadata": {
    "ExecuteTime": {
     "end_time": "2025-03-09T19:19:04.086247Z",
     "start_time": "2025-03-09T19:19:04.079028Z"
    }
   },
   "cell_type": "code",
   "source": [
    "df['Ingresos'] = df['Sale Price'] * df['Units Sold']\n",
    "ingresos_totales_por_pais = df.groupby('Country')['Ingresos'].sum().round(0)\n",
    "ingresos_totales_por_pais.name = \"Ingresos totales (€)\"\n",
    "ingresos_totales_por_pais"
   ],
   "id": "47ebdf24a853db56",
   "outputs": [
    {
     "data": {
      "text/plain": [
       "Country\n",
       "Canada                      26932164.0\n",
       "France                      26081674.0\n",
       "Germany                     24921468.0\n",
       "Mexico                      22726935.0\n",
       "United States of America    27269358.0\n",
       "Name: Ingresos totales (€), dtype: float64"
      ]
     },
     "execution_count": 990,
     "metadata": {},
     "output_type": "execute_result"
    }
   ],
   "execution_count": 990
  },
  {
   "metadata": {
    "ExecuteTime": {
     "end_time": "2025-03-09T19:19:04.130271Z",
     "start_time": "2025-03-09T19:19:04.123Z"
    }
   },
   "cell_type": "code",
   "source": [
    "ganancias_totales_por_pais = df.groupby('Country')['Profit'].sum().round(0)\n",
    "ganancias_totales_por_pais.name = \"Ganancias totales (€)\"\n",
    "ganancias_totales_por_pais"
   ],
   "id": "1593b14850c0463e",
   "outputs": [
    {
     "data": {
      "text/plain": [
       "Country\n",
       "Canada                      3529229.0\n",
       "France                      3781021.0\n",
       "Germany                     3680389.0\n",
       "Mexico                      2907523.0\n",
       "United States of America    2995541.0\n",
       "Name: Ganancias totales (€), dtype: float64"
      ]
     },
     "execution_count": 991,
     "metadata": {},
     "output_type": "execute_result"
    }
   ],
   "execution_count": 991
  },
  {
   "metadata": {
    "ExecuteTime": {
     "end_time": "2025-03-09T19:19:04.176851Z",
     "start_time": "2025-03-09T19:19:04.168036Z"
    }
   },
   "cell_type": "code",
   "source": [
    "df['Year Growth'] = df.groupby('Country')['Gross Sales'].pct_change()\n",
    "crecimiento_anual_por_pais = df.groupby('Country')['Year Growth'].mean().round(2)\n",
    "crecimiento_anual_por_pais.name = \"Crecimiento anual (%)\"\n",
    "crecimiento_anual_por_pais"
   ],
   "id": "8237774166a2eded",
   "outputs": [
    {
     "data": {
      "text/plain": [
       "Country\n",
       "Canada                      4.95\n",
       "France                      5.87\n",
       "Germany                     5.43\n",
       "Mexico                      7.75\n",
       "United States of America    7.88\n",
       "Name: Crecimiento anual (%), dtype: float64"
      ]
     },
     "execution_count": 992,
     "metadata": {},
     "output_type": "execute_result"
    }
   ],
   "execution_count": 992
  },
  {
   "metadata": {},
   "cell_type": "markdown",
   "source": "#### Añadimos los insights a la hoja de resúmenes",
   "id": "4257ee07711dabab"
  },
  {
   "metadata": {
    "ExecuteTime": {
     "end_time": "2025-03-09T19:19:04.224329Z",
     "start_time": "2025-03-09T19:19:04.216783Z"
    }
   },
   "cell_type": "code",
   "source": [
    "paises = [\"Estadísticas\",\"Canada\", \"Francia\", \"Alemania\", \"Mexico\", \"USA\"]\n",
    "estadisticas = {ventas_brutas_por_pais.name : ventas_brutas_por_pais,\n",
    "                promedio_ventas.name: promedio_ventas,\n",
    "                ganancias_totales_por_pais.name: ganancias_totales_por_pais,\n",
    "                ingresos_totales_por_pais.name: ingresos_totales_por_pais,\n",
    "                promedio_unidades_vendidas.name: promedio_unidades_vendidas,\n",
    "                margen_ganancia_medio_por_pais.name: margen_ganancia_medio_por_pais,\n",
    "                total_ganancias.name : total_ganancias,\n",
    "                crecimiento_anual_por_pais.name : crecimiento_anual_por_pais\n",
    "                }\n",
    "sheet.append(paises)\n",
    "for nombre, stat in estadisticas.items():\n",
    "    lista_append = [nombre]\n",
    "    for dato in stat:\n",
    "        lista_append.append(round(dato,2))\n",
    "    sheet.append(lista_append)\n",
    "\n",
    "#Ajustamos la longitud de los datos\n",
    "for col in sheet.columns:\n",
    "    max_length = 0  # Inicializamos la longitud máxima\n",
    "    col_letter = col[0].column_letter  # Obtener la letra de la columna\n",
    "    \n",
    "    for cell in col:\n",
    "        if cell.value:\n",
    "            max_length = max(max_length, len(str(cell.value)))  # Encontrar el texto más largo\n",
    "\n",
    "    sheet.column_dimensions[col_letter].width = max_length + 2  # Ajustar ancho con un margen extra\n",
    "\n",
    "#Aplicamos formateado diferencial\n",
    "for row in sheet.iter_rows(min_row= 2, min_col = 2):\n",
    "    valores = [int(cell.value) for cell in row]\n",
    "    minimo = min(valores)\n",
    "    maximo = max(valores)\n",
    "    media = sum(valores)/len(valores) \n",
    "    color_scale = ColorScaleRule(start_type= \"num\", start_value = minimo, start_color= \"f80a0a\",\n",
    "                             mid_type= \"num\", mid_value = media, mid_color= \"fcf80d\",\n",
    "                             end_type= \"num\", end_value = maximo, end_color= \"7af80a\")\n",
    "    sheet.conditional_formatting.add(f\"{row[0].coordinate}:{row[-1].coordinate}\", color_scale)\n",
    "\n",
    "#Añadimos bordes\n",
    "border_style = Border(left = Side(style= \"thin\"), right= Side(style = \"thin\"),\n",
    "                top = Side(style = \"thin\"), bottom = Side(style = \"thin\"))\n",
    "\n",
    "for row in sheet.iter_rows(min_row=1, max_row=8, min_col=1, max_col=6):\n",
    "    for cell in row:\n",
    "        cell.border = border_style"
   ],
   "id": "ef57321736d4b3ac",
   "outputs": [],
   "execution_count": 993
  },
  {
   "metadata": {},
   "cell_type": "markdown",
   "source": "### Creamos tablas a partir de los datos",
   "id": "6de4eb24000fccf1"
  },
  {
   "metadata": {
    "ExecuteTime": {
     "end_time": "2025-03-09T19:19:04.272426Z",
     "start_time": "2025-03-09T19:19:04.267061Z"
    }
   },
   "cell_type": "code",
   "source": [
    "#Creamos la hoja donde se guardaran las tablas\n",
    "data.create_sheet(\"Graficos\")\n",
    "data.active = data[\"Graficos\"]\n",
    "sheet = data.active"
   ],
   "id": "2c3f672f1cc8c518",
   "outputs": [],
   "execution_count": 994
  },
  {
   "metadata": {},
   "cell_type": "markdown",
   "source": "#### Chartbar",
   "id": "349c93456c62b140"
  },
  {
   "metadata": {
    "ExecuteTime": {
     "end_time": "2025-03-09T19:19:04.314538Z",
     "start_time": "2025-03-09T19:19:04.309923Z"
    }
   },
   "cell_type": "code",
   "source": [
    "from openpyxl.chart import BarChart, PieChart, LineChart, Reference, ScatterChart\n",
    "paises = Reference(data[\"Resumenes\"], min_col = 2, min_row = 1, max_row = 1, max_col = 6)\n",
    "#Chartbar para comparar los ingresos brutos y las ganancias de cada pais\n",
    "bar_chart = BarChart()\n",
    "gross_data = Reference(data[\"Resumenes\"], min_col=1, min_row=2, max_row=2, max_col = 6)\n",
    "profit_data = Reference(data[\"Resumenes\"], min_col=1, min_row=4, max_row= 4, max_col = 6)\n",
    "bar_chart.add_data(gross_data, from_rows= True, titles_from_data= True)\n",
    "bar_chart.add_data(profit_data,from_rows= True, titles_from_data= True)\n",
    "bar_chart.set_categories(paises)\n",
    "bar_chart.title = \"Comparación de Ventas y Ganancias\"\n",
    "bar_chart.y_axis.title = \"€\"\n",
    "bar_chart.x_axis.title = \"Países\"\n",
    "bar_chart.legend.position = \"r\"  # Posición de la leyenda\n",
    "bar_chart.style = 18\n",
    "sheet.add_chart(bar_chart, \"C3\")"
   ],
   "id": "56b2b2f068d84560",
   "outputs": [],
   "execution_count": 995
  },
  {
   "metadata": {},
   "cell_type": "markdown",
   "source": "#### Charbar de promedio de ventas",
   "id": "4105d339138ff436"
  },
  {
   "metadata": {
    "ExecuteTime": {
     "end_time": "2025-03-09T19:19:04.392673Z",
     "start_time": "2025-03-09T19:19:04.389365Z"
    }
   },
   "cell_type": "code",
   "source": [
    "bar_chart = BarChart()\n",
    "promedio_ventas_data = Reference(data[\"Resumenes\"], min_col=1, min_row=3, max_row=3, max_col = 6)\n",
    "bar_chart.add_data(promedio_ventas_data, from_rows= True, titles_from_data= True)\n",
    "bar_chart.set_categories(paises)\n",
    "bar_chart.title = \"Promedio de ventas por país\"\n",
    "bar_chart.y_axis.title = \"€\"\n",
    "bar_chart.x_axis.title = \"Países\"\n",
    "bar_chart.legend.position = \"r\"  # Posición de la leyenda\n",
    "bar_chart.style = 18\n",
    "\n",
    "sheet.add_chart(bar_chart, \"C20\")"
   ],
   "id": "1dd408feb5188c6b",
   "outputs": [],
   "execution_count": 997
  },
  {
   "metadata": {},
   "cell_type": "markdown",
   "source": "### PieChart de margen de crecimiento anual",
   "id": "c134841f67b3d64a"
  },
  {
   "metadata": {
    "ExecuteTime": {
     "end_time": "2025-03-09T19:19:04.431358Z",
     "start_time": "2025-03-09T19:19:04.427820Z"
    }
   },
   "cell_type": "code",
   "source": [
    "pie_chart = PieChart()\n",
    "data_crecimiento = Reference(data[\"Resumenes\"], min_col=1, min_row=8, max_row=8, max_col=6)\n",
    "pie_chart.add_data(data_crecimiento, from_rows= True, titles_from_data= True)\n",
    "pie_chart.set_categories(paises)\n",
    "pie_chart.title = \"Crecimiento anual por país\"\n",
    "pie_chart.legend_position = \"r\"\n",
    "sheet.add_chart(pie_chart, \"M20\")"
   ],
   "id": "fa8e78717063c308",
   "outputs": [],
   "execution_count": 998
  },
  {
   "metadata": {
    "ExecuteTime": {
     "end_time": "2025-03-09T19:19:04.564494Z",
     "start_time": "2025-03-09T19:19:04.466918Z"
    }
   },
   "cell_type": "code",
   "source": "data.save(\"data/Financial Sample.xlsx\")",
   "id": "3531906d406c728c",
   "outputs": [],
   "execution_count": 999
  }
 ],
 "metadata": {
  "kernelspec": {
   "display_name": "Python 3",
   "language": "python",
   "name": "python3"
  },
  "language_info": {
   "codemirror_mode": {
    "name": "ipython",
    "version": 2
   },
   "file_extension": ".py",
   "mimetype": "text/x-python",
   "name": "python",
   "nbconvert_exporter": "python",
   "pygments_lexer": "ipython2",
   "version": "2.7.6"
  }
 },
 "nbformat": 4,
 "nbformat_minor": 5
}
